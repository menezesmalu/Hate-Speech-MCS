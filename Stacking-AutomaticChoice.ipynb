{
 "cells": [
  {
   "cell_type": "code",
   "execution_count": 1,
   "metadata": {},
   "outputs": [],
   "source": [
    "import warnings\n",
    "warnings.filterwarnings('ignore')"
   ]
  },
  {
   "cell_type": "code",
   "execution_count": 2,
   "metadata": {},
   "outputs": [],
   "source": [
    "import pandas as pd\n",
    "import numpy as np\n",
    "from sklearn.linear_model import LogisticRegression, LogisticRegressionCV\n",
    "from sklearn.metrics import f1_score, accuracy_score"
   ]
  },
  {
   "cell_type": "code",
   "execution_count": 3,
   "metadata": {},
   "outputs": [],
   "source": [
    "def load_predictions(dataset_name, partition):\n",
    "    path = './Saved Predict and Proba/' + dataset_name.upper() + '/prob_' + partition + '_' + dataset_name.lower() + '.csv'\n",
    "    table_pred = pd.read_csv(path)\n",
    "    if dataset_name == 'zw':\n",
    "        label = table_pred['norm']\n",
    "        methods = table_pred.drop('norm', axis=1)\n",
    "    else: \n",
    "        label = table_pred['class']\n",
    "        methods = table_pred.drop('class', axis=1)\n",
    "    methods = methods.drop('Unnamed: 0', axis=1)\n",
    "    return label, methods\n",
    "\n",
    "def load_dataset(dataset_name):\n",
    "    label_train, probas_train = load_predictions(dataset_name, 'train')\n",
    "    label_val, probas_val = load_predictions(dataset_name, 'val')\n",
    "    label_test, probas_test = load_predictions(dataset_name, 'test')\n",
    "    return label_train, probas_train, label_test, probas_test, label_val, probas_val\n",
    "\n",
    "def filter_df_train_test(train_df, test_df, name, filter_first=True):\n",
    "    train = train_df.filter(regex=name, axis=1)\n",
    "    test = test_df.filter(regex=name, axis=1)\n",
    "    return train, test"
   ]
  },
  {
   "cell_type": "markdown",
   "metadata": {},
   "source": [
    "# Get dataset"
   ]
  },
  {
   "cell_type": "code",
   "execution_count": 81,
   "metadata": {},
   "outputs": [],
   "source": [
    "names_Z = {}\n",
    "names_Z['td'] ='CNN-W2V|NB-TFIDF|KNN-FAST|NB-GLOVE|LR-W2V|NB-FAST|CNN-TFIDF|KNN-TFIDF|NB-W2V|KNN-CV'\n",
    "names_Z['zw'] = 'NB-GLOVE|LR-GLOVE|NB-W2V|SVM-CV|MLP-TFIDF|SVM-FAST|MLP-W2V|NB-CV|SVM-GLOVE|KNN-FAST|SVM-W2V|RF-CV'\n",
    "names_Z['td_zw']= 'NB-W2V|KNN-FAST|LR-FAST|KNN-GLOVE|CNN-CV|EXTRA-W2V|CNN-GLOVE|KNN-CV|NB-GLOVE|CNN-TFIDF|LR-W2V|KNN-TFIDF|NB-TFIDF'"
   ]
  },
  {
   "cell_type": "code",
   "execution_count": 78,
   "metadata": {},
   "outputs": [],
   "source": [
    "def stacking(dataset_name):\n",
    "    _, _, label_test, probas_test, label_val, probas_val = load_dataset(dataset_name)\n",
    "    all_stacking = [LogisticRegressionCV(class_weight='balanced', cv=10, scoring='f1_macro', n_jobs=5)]\n",
    "    all_stacking_names = ['Stacking LR']\n",
    "\n",
    "    names = names_Z[dataset_name]\n",
    "    results_Z = np.zeros(len(all_stacking))\n",
    "    X_val, X_test = filter_df_train_test(probas_val, probas_test, names)\n",
    "    for idx_clf, clf in enumerate(all_stacking):\n",
    "        clf.fit(X_val, label_val)\n",
    "        y_pred = clf.predict(X_test)\n",
    "        results_Z[idx_clf] = f1_score(label_test, y_pred, average='macro')\n",
    "\n",
    "    group_Z_df = pd.DataFrame(results_Z.reshape(1, 1), columns=all_stacking_names, index=[dataset_name])\n",
    "    return group_Z_df\n"
   ]
  },
  {
   "cell_type": "code",
   "execution_count": 82,
   "metadata": {},
   "outputs": [],
   "source": [
    "group_TD_df = stacking('td')\n",
    "group_ZW_df = stacking('zw')\n",
    "group_TD_ZW_df = stacking('td_zw')"
   ]
  },
  {
   "cell_type": "code",
   "execution_count": 83,
   "metadata": {},
   "outputs": [
    {
     "data": {
      "text/html": [
       "<div>\n",
       "<style scoped>\n",
       "    .dataframe tbody tr th:only-of-type {\n",
       "        vertical-align: middle;\n",
       "    }\n",
       "\n",
       "    .dataframe tbody tr th {\n",
       "        vertical-align: top;\n",
       "    }\n",
       "\n",
       "    .dataframe thead th {\n",
       "        text-align: right;\n",
       "    }\n",
       "</style>\n",
       "<table border=\"1\" class=\"dataframe\">\n",
       "  <thead>\n",
       "    <tr style=\"text-align: right;\">\n",
       "      <th></th>\n",
       "      <th>Stacking LR</th>\n",
       "    </tr>\n",
       "  </thead>\n",
       "  <tbody>\n",
       "    <tr>\n",
       "      <th>td</th>\n",
       "      <td>0.711346</td>\n",
       "    </tr>\n",
       "    <tr>\n",
       "      <th>zw</th>\n",
       "      <td>0.782641</td>\n",
       "    </tr>\n",
       "    <tr>\n",
       "      <th>td_zw</th>\n",
       "      <td>0.878650</td>\n",
       "    </tr>\n",
       "  </tbody>\n",
       "</table>\n",
       "</div>"
      ],
      "text/plain": [
       "       Stacking LR\n",
       "td        0.711346\n",
       "zw        0.782641\n",
       "td_zw     0.878650"
      ]
     },
     "execution_count": 83,
     "metadata": {},
     "output_type": "execute_result"
    }
   ],
   "source": [
    "pd.concat([group_TD_df, group_ZW_df, group_TD_ZW_df])"
   ]
  },
  {
   "cell_type": "code",
   "execution_count": null,
   "metadata": {},
   "outputs": [],
   "source": []
  }
 ],
 "metadata": {
  "@webio": {
   "lastCommId": null,
   "lastKernelId": null
  },
  "kernelspec": {
   "display_name": "Python 2",
   "language": "python",
   "name": "python2"
  },
  "language_info": {
   "codemirror_mode": {
    "name": "ipython",
    "version": 3
   },
   "file_extension": ".py",
   "mimetype": "text/x-python",
   "name": "python",
   "nbconvert_exporter": "python",
   "pygments_lexer": "ipython3",
   "version": "3.6.9"
  }
 },
 "nbformat": 4,
 "nbformat_minor": 2
}
